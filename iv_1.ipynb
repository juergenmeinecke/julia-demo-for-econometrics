{
 "cells": [
  {
   "cell_type": "markdown",
   "metadata": {},
   "source": [
    "# Data Generating Process"
   ]
  },
  {
   "cell_type": "markdown",
   "metadata": {},
   "source": [
    "In this section I am creating the sample data according to a *true* model of my creation. Consider the simple two equation model\n",
    "\n",
    "\\begin{align}\n",
    "Y &= \\beta X + e \\\\\n",
    "X &= \\pi Z + v\n",
    "\\end{align}\n",
    "\n",
    "\n",
    "All variables are scalars for simplicity. \n",
    "\n",
    "The variables $X$ and $Y$ are generated given the following information:\n",
    "\n",
    "* $Z \\sim N(0,1)$\n",
    "\n",
    "* $u:=\n",
    "    \\begin{pmatrix}\n",
    "    e \\\\ v\n",
    "    \\end{pmatrix}\n",
    "    \\sim \n",
    "    N\n",
    "    \\begin{pmatrix}\n",
    "    \\begin{pmatrix}\n",
    "    0 \\\\ 0\n",
    "    \\end{pmatrix}\n",
    "    , \n",
    "    \\begin{pmatrix}\n",
    "    1 & \\rho \\\\ \\rho & 1\n",
    "    \\end{pmatrix}\n",
    "    \\end{pmatrix}$\n",
    "  "
   ]
  },
  {
   "cell_type": "code",
   "execution_count": null,
   "metadata": {},
   "outputs": [],
   "source": [
    "# loading modules\n",
    "using LinearAlgebra\n",
    "import LinearAlgebra.cholesky\n",
    "using Plots\n",
    "using Statistics"
   ]
  },
  {
   "cell_type": "code",
   "execution_count": null,
   "metadata": {},
   "outputs": [],
   "source": [
    "# defining composite types that\n",
    "# serve as containers to store results\n",
    "\n",
    "struct Parameters\n",
    "    n::Int64\n",
    "    beta::Float64\n",
    "    F::Float64\n",
    "    rho::Float64\n",
    "end\n",
    "\n",
    "struct IV_results\n",
    "    biv::Float64\n",
    "    se::Float64\n",
    "    tstat::Float64\n",
    "end\n",
    "\n",
    "struct Sample\n",
    "    x::Array{Float64,1}\n",
    "    y::Array{Float64,1}\n",
    "    z::Array{Float64,1}\n",
    "end\n",
    "\n",
    "struct Simresults\n",
    "    dist::AbstractVector\n",
    "    power::Float64\n",
    "end"
   ]
  },
  {
   "cell_type": "markdown",
   "metadata": {},
   "source": [
    "# Defining useful functions"
   ]
  },
  {
   "cell_type": "code",
   "execution_count": null,
   "metadata": {},
   "outputs": [],
   "source": [
    "function sample(parms::Parameters)\n",
    "    \n",
    "    # first stage coefficient\n",
    "    # pie = sqrt(parms.r2/(1-parms.r2))\n",
    "       \n",
    "    # exogenous variables\n",
    "    C = cholesky([1 parms.rho; parms.rho 1])\n",
    "    u = [randn(parms.n,1) randn(parms.n,1)] * C.U;\n",
    "        \n",
    "    e = u[:,1]\n",
    "    v = u[:,2] \n",
    "    Z = randn(parms.n)\n",
    "    \n",
    "    # creating endogenous variables    \n",
    "    pie = sqrt(parms.F/parms.n)\n",
    "    X = pie * Z + v\n",
    "    Y = parms.beta * X + e\n",
    "    \n",
    "    # returning Sample object\n",
    "    Sample(X, Y, Z)\n",
    "end"
   ]
  },
  {
   "cell_type": "code",
   "execution_count": null,
   "metadata": {},
   "outputs": [],
   "source": [
    "\"\"\"  \n",
    "note: the function iv(...) nests ols estimation\n",
    "        if you call the function with\n",
    "        iv(x,y,x) it will do OLS\n",
    "        iv(x,y,z) it will do IV\n",
    "\"\"\"\n",
    "function iv(X::Array{Float64,1}, Y::Array{Float64,1}, Z::Array{Float64,1})\n",
    "    \n",
    "    biv = Z'Y/(Z'X)\n",
    "    ehat = Y - X*biv\n",
    "    shat = ehat'ehat/length(ehat)\n",
    "    Omegahat_hom = shat * (inv(Z'X) * (Z'Z) * inv(X'Z))\n",
    "    \n",
    "    se_hom = sqrt(Omegahat_hom)\n",
    "    tstat_hom = abs(biv/se_hom)\n",
    "\n",
    "    # returning IV_results object\n",
    "    IV_results(biv, se_hom, tstat_hom)\n",
    "\n",
    "end"
   ]
  },
  {
   "cell_type": "code",
   "execution_count": null,
   "metadata": {},
   "outputs": [],
   "source": [
    "function simulate(parms::Parameters, reps::Int64=5000)\n",
    "    \n",
    "    b = zeros(reps)\n",
    "    pow = 0\n",
    "    \n",
    "    for r = 1:reps\n",
    "        \n",
    "        mysample = sample(parms)\n",
    "        myresults = iv(mysample.x, mysample.y, mysample.z)\n",
    "        \n",
    "        b[r] = myresults.biv\n",
    "        pow += (myresults.tstat>1.96)\n",
    "    \n",
    "    end\n",
    "    \n",
    "    # returning simulation result object\n",
    "    Simresults(b, pow/reps)\n",
    "end"
   ]
  },
  {
   "cell_type": "code",
   "execution_count": null,
   "metadata": {},
   "outputs": [],
   "source": [
    "function power(parms::Parameters, betarange=(-2:0.1:2))\n",
    "\n",
    "    powerfunc = zeros(length(betarange))\n",
    "    count = 1\n",
    "\n",
    "    for b in betarange\n",
    "        \n",
    "        parmsnew = Parameters(parms.n, b, parms.F, parms.rho)\n",
    "        betas = simulate(parmsnew)\n",
    "\n",
    "        powerfunc[count] = betas.power\n",
    "        count += 1\n",
    "        \n",
    "    end\n",
    "    \n",
    "    powerfunc\n",
    "\n",
    "end"
   ]
  },
  {
   "cell_type": "markdown",
   "metadata": {},
   "source": [
    "# Simulating Distribution of IV Estimator"
   ]
  },
  {
   "cell_type": "markdown",
   "metadata": {},
   "source": [
    "There are four things we need to \"choose\": sample size, $\\beta$, degree of endogeneity, and strength of instrument. \n",
    "\n",
    "Here are the combinations of the four that we will be studying:\n",
    "\n",
    "* $N=1000$ (could play around with that)\n",
    "\n",
    "* $\\beta=0$\n",
    "\n",
    "* $\\pi$ will be indirectly governed by setting the first stage $F$ like explained below.\n",
    "\n",
    "* degree of endogeneity $\\rho \\in \\lbrace 0, 0.5, 0.9 \\rbrace$ (increasing degree)\n",
    "\n",
    "* strength of instrument: via first stage $F \\in \\lbrace 5.53, 6.66, 8.96, 16.38 \\rbrace$. \n",
    "\n",
    "The first stage $F$ determines $\\pi$. Here's the explanation:\n",
    "\n",
    "* For $\\pi$ it can be shown that $R^2 = (\\widehat{\\text{Corr}}(X,Z))^2 = s_{XZ}^2/s_{X}^2 = \\hat{\\pi}^2/(1+\\hat{\\pi}^2)$ and therefore $ \\hat{\\pi} = \\sqrt{R^2/(1-R^2)}$.\n",
    "\n",
    "* At the same time: For the simple linear regression model $F=N \\cdot R^2/(1-R^2)$ which suggests the following relationship between the first stage $F$ and the coefficient $\\hat{\\pi}$: $F \\approx N \\cdot \\hat{\\pi}^2.$\n",
    "\n",
    "* For practical purposes we take that to imply that $\\pi = \\sqrt{\\frac{F}{N}}$. \n",
    "\n",
    "So what we will be doing here is setting $F$ to govern $\\pi$, the strength of the instruments. From the Stock and Yogo paper we know that interesting values for $F$ are $\\{5.53, 6.66, 8.96, 16.38\\}$ (see their Table 5.2 as shown in my week 9 lecture notes)."
   ]
  },
  {
   "cell_type": "code",
   "execution_count": null,
   "metadata": {},
   "outputs": [],
   "source": [
    "# setting parameters\n",
    "# DGP as described above\n",
    "beta = 0\n",
    "N = 1000 # sample size\n",
    "F = 5.53\n",
    "rho = 0.90\n",
    "myparms = Parameters(N, beta, F, rho);"
   ]
  },
  {
   "cell_type": "code",
   "execution_count": null,
   "metadata": {},
   "outputs": [],
   "source": [
    "biv_dstn = simulate(myparms);"
   ]
  },
  {
   "cell_type": "code",
   "execution_count": null,
   "metadata": {},
   "outputs": [],
   "source": [
    "# finite sample distribution, it's just a histogram!\n",
    "bias_hat = round(mean(biv_dstn.dist), digits=2)\n",
    "var_hat = round(var(biv_dstn.dist), digits=1)\n",
    "mydistplot = histogram(biv_dstn.dist, normed=true,\n",
    "    xlims=(-3,3), ylims=(0,2.0), xticks=-3:1:3, yticks=0:.25:2.0,\n",
    "    title=\"Simulated distribution of IV estimator \\n\n",
    "    (N=$(myparms.n), F=$(myparms.F), rho =$(myparms.rho)) \\n\n",
    "    Bias=$bias_hat, Variance=$var_hat\", \n",
    "    label=\"\", color=\"#268bd2\")"
   ]
  },
  {
   "cell_type": "code",
   "execution_count": null,
   "metadata": {},
   "outputs": [],
   "source": [
    "#savefig(\"simulated_distribution_iv\")\n",
    "# save figure for Latex lecture notes\n",
    "savefig(plot(mydistplot, dpi=300, background_color=\"#eee8d5\"), \n",
    "    \"simulated_distribution_iv_N$(myparms.n)_F$(myparms.F)_rho$(myparms.rho).png\")"
   ]
  },
  {
   "cell_type": "markdown",
   "metadata": {},
   "source": [
    "# Computing Actual Power/Size of t-test\n",
    "Recall that power function is, most generally, the probability of rejecting the null given the true coefficient. \n",
    "\n",
    "To study the power function we will do this:\n",
    "\n",
    "* we generate many models by varying the value of $\\beta$ vary over the interval $[-2, 2]$ in discrete and small steps.\n",
    "\n",
    "* Irrespective of the value of the *true* coefficient $\\beta$, we will always be testing the null hypothesis $H_0: \\beta=0$. \n",
    "\n",
    "This allows us to simulate the statistical power and size. \n",
    "\n",
    "\\begin{align*}\n",
    "    Power = \\Pr(\\text{reject } H_0: \\beta_0 = 0 | \\text{ true } \\beta \\neq 0 )\\\\\n",
    "    Size  = \\Pr(\\text{reject } H_0: \\beta_0 = 0 | \\text{ true } \\beta = 0 )\n",
    "\\end{align*}\n",
    "\n",
    "Of course we want the size to be fixed at 5% while at the same time maximizing the power.\n",
    "\n",
    "\n"
   ]
  },
  {
   "cell_type": "code",
   "execution_count": null,
   "metadata": {},
   "outputs": [],
   "source": [
    "powergraph = power(myparms); \n",
    "size_hat = round(100*powergraph[21], digits=2)\n",
    "mypowerplot = plot(-2:0.1:2,powergraph, lw=3, \n",
    "    xlims=(-3,3), ylims=(0,1.02), xticks=-3:1:3, yticks=0:.25:1,\n",
    "    title=\"Simulated power function of IV estimator \\n\n",
    "    (N=$(myparms.n), F=$(myparms.F), rho =$(myparms.rho)) \\n\n",
    "    empirical size = $size_hat %\", \n",
    "    label=\"\", linecolor=\"#268bd2\", background_color = :transparent, foreground_color=:black)"
   ]
  },
  {
   "cell_type": "code",
   "execution_count": null,
   "metadata": {},
   "outputs": [],
   "source": [
    "# save figure for Latex lecture notes\n",
    "savefig(plot(mypowerplot, dpi=300, background_color=\"#eee8d5\"), \n",
    "    \"powergraph_N$(myparms.n)_F$(myparms.F)_rho$(myparms.rho).png\")"
   ]
  },
  {
   "cell_type": "code",
   "execution_count": null,
   "metadata": {},
   "outputs": [],
   "source": []
  }
 ],
 "metadata": {
  "kernelspec": {
   "display_name": "Julia 1.4.1",
   "language": "julia",
   "name": "julia-1.4"
  },
  "language_info": {
   "file_extension": ".jl",
   "mimetype": "application/julia",
   "name": "julia",
   "version": "1.4.1"
  }
 },
 "nbformat": 4,
 "nbformat_minor": 2
}
