{
 "cells": [
  {
   "cell_type": "markdown",
   "metadata": {},
   "source": [
    "# Rewriting the code more compactly"
   ]
  },
  {
   "cell_type": "markdown",
   "metadata": {},
   "source": [
    "This code does the same thing as \"ols_simple\" but it is written in a more object oriented way. While at this stage you may not be convinced why this is useful, it will become clearer as we turn the code into a full blown Monte Carlo simulation."
   ]
  },
  {
   "cell_type": "code",
   "execution_count": 1,
   "metadata": {},
   "outputs": [],
   "source": [
    "# loading modules\n",
    "using LinearAlgebra\n",
    "using Statistics\n",
    "using Random"
   ]
  },
  {
   "cell_type": "code",
   "execution_count": 2,
   "metadata": {},
   "outputs": [],
   "source": [
    "# defining composite types that\n",
    "# serve as containers to store results\n",
    "\n",
    "struct Parameters\n",
    "    n::Int64\n",
    "    beta_0::Float64\n",
    "    beta_1::Float64\n",
    "end\n",
    "\n",
    "struct Sample\n",
    "    x::Array{Float64,2}\n",
    "    y::Array{Float64,1}\n",
    "end\n",
    "\n",
    "struct OLS_results\n",
    "    bols::Array{Float64,1}\n",
    "    se_hom::Array{Float64,1}\n",
    "    se_het::Array{Float64,1}\n",
    "    ci_hom::Array{Float64,1}\n",
    "    ci_het::Array{Float64,1}\n",
    "end"
   ]
  },
  {
   "cell_type": "markdown",
   "metadata": {},
   "source": [
    "# Defining useful functions"
   ]
  },
  {
   "cell_type": "code",
   "execution_count": 3,
   "metadata": {},
   "outputs": [
    {
     "data": {
      "text/plain": [
       "sample"
      ]
     },
     "execution_count": 3,
     "metadata": {},
     "output_type": "execute_result"
    }
   ],
   "source": [
    "\"\"\"\n",
    "    sample(parms)\n",
    "\n",
    "Creates one random sample according to linear model\n",
    "Y = \\beta_0 + \\beta_1 X + e\n",
    "\n",
    "Requires sample size and coefficients from Parameters object.\n",
    "\n",
    "\"\"\"\n",
    "function sample(parms::Parameters)\n",
    "\n",
    "    # creating sample\n",
    "    Random.seed!(42); # fixing random numbers for cross-code comparison\n",
    "\n",
    "    # exogenous variables: simply set as normal rvs\n",
    "    X = [ones(parms.n, 1) randn(parms.n)]\n",
    "    e = randn(parms.n) \n",
    "\n",
    "    # creating endogenous variables    \n",
    "    Y = X*[parms.beta_0; parms.beta_1] + e;\n",
    "    \n",
    "    # returning Sample object\n",
    "    Sample(X, Y)\n",
    "    \n",
    "end"
   ]
  },
  {
   "cell_type": "code",
   "execution_count": 4,
   "metadata": {},
   "outputs": [
    {
     "data": {
      "text/plain": [
       "ols (generic function with 1 method)"
      ]
     },
     "execution_count": 4,
     "metadata": {},
     "output_type": "execute_result"
    }
   ],
   "source": [
    "\"\"\"\n",
    "    ols(X, Y)\n",
    "\n",
    "Computes OLS estimate, its standard error, and the corresponding 95% confidence interval.\n",
    "\n",
    "Requires Nx2 dimensional data matrix X, and Nx1 dimensional data vector Y as input.\n",
    "\"\"\"\n",
    "function ols(X::Array{Float64,2}, Y::Array{Float64,1})\n",
    "    \n",
    "    xxinv = inv(X'*X)\n",
    "   \n",
    "    bols = xxinv*X'*Y\n",
    "    \n",
    "    ehat = Y - X*bols;\n",
    "    shat = ehat'*ehat/length(ehat);\n",
    "\n",
    "    Omegahat_hom = shat[1]*inv(X'*X);\n",
    "    Omegahat_het = xxinv * (X'*Diagonal(ehat.^2)*X) * xxinv;\n",
    "\n",
    "    se_hom = diag(Omegahat_hom).^(0.5)\n",
    "    se_het = diag(Omegahat_het).^(0.5)\n",
    "    \n",
    "    ci_hom = [bols[2] - 1.96*se_hom[2], bols[2] + 1.96*se_hom[2]]\n",
    "    ci_het = [bols[2] - 1.96*se_het[2], bols[2] + 1.96*se_het[2]]\n",
    "    \n",
    "    # returning OLS_results object\n",
    "    OLS_results(bols, se_hom, se_het, ci_hom, ci_het)\n",
    "\n",
    "end"
   ]
  },
  {
   "cell_type": "markdown",
   "metadata": {},
   "source": [
    "# OLS estimation"
   ]
  },
  {
   "cell_type": "code",
   "execution_count": 5,
   "metadata": {},
   "outputs": [],
   "source": [
    "# setting parameters\n",
    "parms = Parameters(1000, 24, 8);"
   ]
  },
  {
   "cell_type": "code",
   "execution_count": 6,
   "metadata": {},
   "outputs": [],
   "source": [
    "# generate one sample\n",
    "sample_data = sample(parms);"
   ]
  },
  {
   "cell_type": "code",
   "execution_count": 7,
   "metadata": {},
   "outputs": [],
   "source": [
    "# ols estimation\n",
    "myresults = ols(sample_data.x, sample_data.y);"
   ]
  },
  {
   "cell_type": "code",
   "execution_count": 8,
   "metadata": {},
   "outputs": [
    {
     "name": "stdout",
     "output_type": "stream",
     "text": [
      "[24.015845699885638, 8.047945398812304]\n"
     ]
    }
   ],
   "source": [
    "println(myresults.bols)"
   ]
  },
  {
   "cell_type": "code",
   "execution_count": 9,
   "metadata": {},
   "outputs": [
    {
     "name": "stdout",
     "output_type": "stream",
     "text": [
      "[7.989025264173771, 8.106865533450838]\n"
     ]
    }
   ],
   "source": [
    "println(myresults.ci_hom)"
   ]
  }
 ],
 "metadata": {
  "kernelspec": {
   "display_name": "Julia 1.4.1",
   "language": "julia",
   "name": "julia-1.4"
  },
  "language_info": {
   "file_extension": ".jl",
   "mimetype": "application/julia",
   "name": "julia",
   "version": "1.4.1"
  }
 },
 "nbformat": 4,
 "nbformat_minor": 2
}
