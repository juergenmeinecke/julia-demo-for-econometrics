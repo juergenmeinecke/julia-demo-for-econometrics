{
 "cells": [
  {
   "cell_type": "markdown",
   "metadata": {},
   "source": [
    "# Data Generating Process"
   ]
  },
  {
   "cell_type": "markdown",
   "metadata": {},
   "source": [
    "In this section I am creating the sample data according to a *true* model of my creation. Consider the simple two equation model\n",
    "\n",
    "\\begin{align}\n",
    "Y &= \\beta X + e \\\\\n",
    "X &= \\pi Z + v\n",
    "\\end{align}\n",
    "\n",
    "\n",
    "All variables are scalars for simplicity. \n",
    "\n",
    "The variables $X$ and $Y$ are generated given the following information:\n",
    "\n",
    "* $Z \\sim N(0,1)$\n",
    "\n",
    "* $u:=\n",
    "    \\begin{pmatrix}\n",
    "    e \\\\ v\n",
    "    \\end{pmatrix}\n",
    "    \\sim \n",
    "    N\n",
    "    \\begin{pmatrix}\n",
    "    \\begin{pmatrix}\n",
    "    0 \\\\ 0\n",
    "    \\end{pmatrix}\n",
    "    , \n",
    "    \\begin{pmatrix}\n",
    "    1 & \\rho \\\\ \\rho & 1\n",
    "    \\end{pmatrix}\n",
    "    \\end{pmatrix}$\n",
    "    \n",
    "* We let the coefficient $\\beta$ vary over the interval $[-2, 2]$ in discrete and small steps.\n",
    "\n",
    "* For $\\pi$ it can be shown that $R^2 = (\\widehat{\\text{Corr}}(X,Z))^2 = s_{XZ}^2/s_{X}^2 = \\hat{\\pi}^2/(1+\\hat{\\pi}^2)$ and therefore\n",
    "    $$ \\hat{\\pi} = \\sqrt{R^2/(1-R^2)}$$\n",
    "    \n",
    " Aside: For the simple linear regression model $F=N \\cdot R^2/(1-R^2)$ which suggests the following relationship between the first stage $F$ and the coefficient $\\pi$: \n",
    "$$F \\approx N \\cdot \\hat{\\pi}^2 $$\n",
    "So by setting $\\pi$ and $N$ we effictively govern the $F$ in the first stage regression of $X$ on $Z$."
   ]
  },
  {
   "cell_type": "code",
   "execution_count": 1,
   "metadata": {},
   "outputs": [],
   "source": [
    "# loading modules\n",
    "using LinearAlgebra\n",
    "import LinearAlgebra.cholesky\n",
    "using Seaborn\n",
    "using Statistics"
   ]
  },
  {
   "cell_type": "code",
   "execution_count": 2,
   "metadata": {},
   "outputs": [],
   "source": [
    "# defining containers to store results\n",
    "struct Estimator\n",
    "    bhat::Real\n",
    "    se::Real\n",
    "    tstat::Real\n",
    "end\n",
    "\n",
    "struct Parameters\n",
    "    N::Int64\n",
    "    beta::Float64\n",
    "    F::Float64\n",
    "    rho::Float64\n",
    "end\n",
    "\n",
    "struct Dgp\n",
    "    x::AbstractVector\n",
    "    y::AbstractVector\n",
    "    z::AbstractVector\n",
    "end\n",
    "\n",
    "struct Simresults\n",
    "    dist::AbstractVector\n",
    "    power::Float64\n",
    "end"
   ]
  },
  {
   "cell_type": "code",
   "execution_count": 3,
   "metadata": {},
   "outputs": [
    {
     "data": {
      "text/plain": [
       "estimate (generic function with 1 method)"
      ]
     },
     "execution_count": 3,
     "metadata": {},
     "output_type": "execute_result"
    }
   ],
   "source": [
    "function estimate(X::AbstractVector, Y::AbstractVector, Z::AbstractVector)\n",
    "\n",
    "    # note: if you call the function with\n",
    "    # estimate(x,y,x) it will do OLS\n",
    "    # estimate(x,y,z) it will do IV\n",
    "    \n",
    "    bhat = Z'Y/(Z'X)\n",
    "    res = Y - X*bhat\n",
    "    shat = res'res/length(res)\n",
    "    omegahat = shat * (inv(Z'X) * (Z'Z) * inv(X'Z))\n",
    "    \n",
    "    stderr = sqrt(omegahat)\n",
    "    tstat = abs(bhat/stderr)\n",
    "\n",
    "    # sending results\n",
    "    Estimator(bhat, stderr, tstat)\n",
    "\n",
    "end"
   ]
  },
  {
   "cell_type": "code",
   "execution_count": 4,
   "metadata": {},
   "outputs": [
    {
     "data": {
      "text/plain": [
       "dgp (generic function with 1 method)"
      ]
     },
     "execution_count": 4,
     "metadata": {},
     "output_type": "execute_result"
    }
   ],
   "source": [
    "function dgp(parms::Parameters)\n",
    "    \n",
    "    # first stage coefficient\n",
    "    # pie = sqrt(parms.r2/(1-parms.r2))\n",
    "       \n",
    "    # exogenous variables\n",
    "    C = cholesky([1 parms.rho; parms.rho 1])\n",
    "    u = [randn(parms.N,1) randn(parms.N,1)] * C.U;\n",
    "        \n",
    "    e = u[:,1]\n",
    "    v = u[:,2] \n",
    "    Z = randn(parms.N)\n",
    "    \n",
    "    # creating endogenous variables    \n",
    "    pie = sqrt(parms.F/parms.N)\n",
    "    X = pie * Z + v\n",
    "    Y = parms.beta * X + e\n",
    "    \n",
    "    # sending results\n",
    "    Dgp(X, Y, Z)\n",
    "end"
   ]
  },
  {
   "cell_type": "code",
   "execution_count": 5,
   "metadata": {},
   "outputs": [
    {
     "data": {
      "text/plain": [
       "simulate (generic function with 2 methods)"
      ]
     },
     "execution_count": 5,
     "metadata": {},
     "output_type": "execute_result"
    }
   ],
   "source": [
    "function simulate(parms::Parameters, reps::Int64=2000)\n",
    "    \n",
    "    bvec = zeros(reps)\n",
    "    pow = 0\n",
    "    \n",
    "    for r = 1:reps\n",
    "        sample = dgp(parms)\n",
    "        b = estimate(sample.x, sample.y, sample.z)\n",
    "        \n",
    "        bvec[r] = b.bhat\n",
    "        pow = pow + (b.tstat>1.96)\n",
    "    \n",
    "    end\n",
    "    \n",
    "    # sending results\n",
    "    Simresults(bvec, pow/reps)\n",
    "end"
   ]
  },
  {
   "cell_type": "code",
   "execution_count": 6,
   "metadata": {},
   "outputs": [
    {
     "data": {
      "text/plain": [
       "power (generic function with 2 methods)"
      ]
     },
     "execution_count": 6,
     "metadata": {},
     "output_type": "execute_result"
    }
   ],
   "source": [
    "function power(parms::Parameters, betarange=(-2:0.1:2))\n",
    "\n",
    "    powerfunc = zeros(length(betarange))\n",
    "    count = 1\n",
    "\n",
    "    for b in betarange\n",
    "        parmsnew = Parameters(parms.N, b, parms.F, parms.rho)\n",
    "        betas = simulate(parmsnew)\n",
    "\n",
    "        powerfunc[count] = betas.power\n",
    "        count += 1\n",
    "    end\n",
    "    \n",
    "    powerfunc\n",
    "\n",
    "end"
   ]
  },
  {
   "cell_type": "markdown",
   "metadata": {},
   "source": [
    "Set parameters like so:\n",
    "\\begin{align*}\n",
    "N &\\in \\lbrace 100, 1000 \\rbrace \\\\\n",
    "\\beta &= 0 \\\\\n",
    "\\pi &= \\sqrt{\\frac{F}{N}} \\qquad\\qquad \\text{with }\n",
    "F \\in \\lbrace 1, 2, 5, 10, 20 \\rbrace\\\\\n",
    "\\rho &\\in \\lbrace 0, 0.5, 0.9 \\rbrace\n",
    "\\end{align*}\n",
    "\n",
    "where $R^2$ controls the strength of the instrument (larger values of $R^2$, stronger instrument) and $\\rho$ controls the degree of endogeneity ($\\rho=0$ no endogneity, $\\rho=0.90$ a lot of endogeneity)."
   ]
  },
  {
   "cell_type": "markdown",
   "metadata": {},
   "source": [
    "# Simulating Distribution of IV Estimator"
   ]
  },
  {
   "cell_type": "code",
   "execution_count": 42,
   "metadata": {},
   "outputs": [
    {
     "data": {
      "image/png": "[encoded data removed]",
      "text/plain": [
       "Figure(PyObject <matplotlib.figure.Figure object at 0x7fef41989908>)"
      ]
     },
     "metadata": {},
     "output_type": "display_data"
    },
    {
     "data": {
      "text/plain": [
       "-0.24102852587727996"
      ]
     },
     "execution_count": 42,
     "metadata": {},
     "output_type": "execute_result"
    }
   ],
   "source": [
    "# order of Parameters(N, beta, F, rho)\n",
    "parameters = Parameters(1000, 0, 1, 0.99)\n",
    "betas = simulate(parameters);\n",
    "distplot(betas.dist)\n",
    "savefig(\"./figures/lecture_9_fig1a.eps\", format=\"eps\", dpi=1000, facecolor=\"#fdf6e3\")\n",
    "Bias = mean(betas.dist)"
   ]
  },
  {
   "cell_type": "markdown",
   "metadata": {},
   "source": [
    "# Computing Actual Power/Size of t-test\n",
    "Recall that power function is, most generally, the probability of rejecting the null given the true coefficient. \n",
    "\n",
    "The default null is: $H_0: \\beta = 0$, so we are always testing whether the true coefficient is zero.\n",
    "\n",
    "At the same time we will vary the true coefficient $\\beta$ in the DGP from $-2$ to $+2$. \n",
    "\n",
    "This allows us to simulate the statistical power and size. \n",
    "\n",
    "\\begin{align*}\n",
    "    Power = \\Pr(\\text{reject } H_0: \\beta_0 = 0 | \\text{ true } \\beta \\neq 0 )\\\\\n",
    "    Size  = \\Pr(\\text{reject } H_0: \\beta_0 = 0 | \\text{ true } \\beta = 0 )\n",
    "\\end{align*}\n",
    "\n",
    "Of course we want the size to be fixed at 5% while at the same time maximizing the power.\n",
    "\n",
    "\n"
   ]
  },
  {
   "cell_type": "code",
   "execution_count": 43,
   "metadata": {},
   "outputs": [
    {
     "data": {
      "image/png": "[encoded data removed]",
      "text/plain": [
       "Figure(PyObject <matplotlib.figure.Figure object at 0x7fef05f452b0>)"
      ]
     },
     "metadata": {},
     "output_type": "display_data"
    }
   ],
   "source": [
    "powergraph = power(parameters); \n",
    "plot(-2:0.1:2,powergraph)\n",
    "savefig(\"./figures/lecture_9_fig1b.eps\", format=\"eps\", dpi=1000, facecolor=\"#fdf6e3\")"
   ]
  },
  {
   "cell_type": "code",
   "execution_count": 44,
   "metadata": {},
   "outputs": [
    {
     "data": {
      "text/plain": [
       "0.1825"
      ]
     },
     "execution_count": 44,
     "metadata": {},
     "output_type": "execute_result"
    }
   ],
   "source": [
    "Actual_size = powergraph[21]"
   ]
  },
  {
   "cell_type": "code",
   "execution_count": null,
   "metadata": {},
   "outputs": [],
   "source": []
  }
 ],
 "metadata": {
  "kernelspec": {
   "display_name": "Julia 1.1.0",
   "language": "julia",
   "name": "julia-1.1"
  },
  "language_info": {
   "file_extension": ".jl",
   "mimetype": "application/julia",
   "name": "julia",
   "version": "1.1.0"
  }
 },
 "nbformat": 4,
 "nbformat_minor": 2
}
